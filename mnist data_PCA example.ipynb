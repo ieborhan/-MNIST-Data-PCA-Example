{
 "cells": [
  {
   "cell_type": "markdown",
   "id": "9ef25aa9",
   "metadata": {},
   "source": [
    "## MNIST DATASET PCA "
   ]
  },
  {
   "cell_type": "code",
   "execution_count": 1,
   "id": "6138a1d3-9c29-40f8-aac0-a22e7da50167",
   "metadata": {},
   "outputs": [],
   "source": [
    "import pandas as pd\n",
    "import numpy as np\n",
    "from sklearn.model_selection import train_test_split\n",
    "from sklearn.preprocessing import MinMaxScaler\n",
    "from sklearn.decomposition import PCA\n",
    "import matplotlib.pyplot as plt\n",
    "import seaborn as sns\n",
    "import plotly.express as px"
   ]
  },
  {
   "cell_type": "markdown",
   "id": "e18416ff",
   "metadata": {},
   "source": [
    "<a href=\"https://datahub.io/machine-learning/mnist_784#resource-mnist_784\" style=\"color:red\"><b> MNIST DATASET DOWNLOAD</a>\n"
   ]
  },
  {
   "cell_type": "code",
   "execution_count": 2,
   "id": "a5a41223-71b8-477b-a6a4-e7c0a7424d34",
   "metadata": {
    "tags": []
   },
   "outputs": [
    {
     "data": {
      "text/html": [
       "<div>\n",
       "<style scoped>\n",
       "    .dataframe tbody tr th:only-of-type {\n",
       "        vertical-align: middle;\n",
       "    }\n",
       "\n",
       "    .dataframe tbody tr th {\n",
       "        vertical-align: top;\n",
       "    }\n",
       "\n",
       "    .dataframe thead th {\n",
       "        text-align: right;\n",
       "    }\n",
       "</style>\n",
       "<table border=\"1\" class=\"dataframe\">\n",
       "  <thead>\n",
       "    <tr style=\"text-align: right;\">\n",
       "      <th></th>\n",
       "      <th>pixel1</th>\n",
       "      <th>pixel2</th>\n",
       "      <th>pixel3</th>\n",
       "      <th>pixel4</th>\n",
       "      <th>pixel5</th>\n",
       "      <th>pixel6</th>\n",
       "      <th>pixel7</th>\n",
       "      <th>pixel8</th>\n",
       "      <th>pixel9</th>\n",
       "      <th>pixel10</th>\n",
       "      <th>...</th>\n",
       "      <th>pixel776</th>\n",
       "      <th>pixel777</th>\n",
       "      <th>pixel778</th>\n",
       "      <th>pixel779</th>\n",
       "      <th>pixel780</th>\n",
       "      <th>pixel781</th>\n",
       "      <th>pixel782</th>\n",
       "      <th>pixel783</th>\n",
       "      <th>pixel784</th>\n",
       "      <th>class</th>\n",
       "    </tr>\n",
       "  </thead>\n",
       "  <tbody>\n",
       "    <tr>\n",
       "      <th>0</th>\n",
       "      <td>0</td>\n",
       "      <td>0</td>\n",
       "      <td>0</td>\n",
       "      <td>0</td>\n",
       "      <td>0</td>\n",
       "      <td>0</td>\n",
       "      <td>0</td>\n",
       "      <td>0</td>\n",
       "      <td>0</td>\n",
       "      <td>0</td>\n",
       "      <td>...</td>\n",
       "      <td>0</td>\n",
       "      <td>0</td>\n",
       "      <td>0</td>\n",
       "      <td>0</td>\n",
       "      <td>0</td>\n",
       "      <td>0</td>\n",
       "      <td>0</td>\n",
       "      <td>0</td>\n",
       "      <td>0</td>\n",
       "      <td>5</td>\n",
       "    </tr>\n",
       "    <tr>\n",
       "      <th>1</th>\n",
       "      <td>0</td>\n",
       "      <td>0</td>\n",
       "      <td>0</td>\n",
       "      <td>0</td>\n",
       "      <td>0</td>\n",
       "      <td>0</td>\n",
       "      <td>0</td>\n",
       "      <td>0</td>\n",
       "      <td>0</td>\n",
       "      <td>0</td>\n",
       "      <td>...</td>\n",
       "      <td>0</td>\n",
       "      <td>0</td>\n",
       "      <td>0</td>\n",
       "      <td>0</td>\n",
       "      <td>0</td>\n",
       "      <td>0</td>\n",
       "      <td>0</td>\n",
       "      <td>0</td>\n",
       "      <td>0</td>\n",
       "      <td>0</td>\n",
       "    </tr>\n",
       "    <tr>\n",
       "      <th>2</th>\n",
       "      <td>0</td>\n",
       "      <td>0</td>\n",
       "      <td>0</td>\n",
       "      <td>0</td>\n",
       "      <td>0</td>\n",
       "      <td>0</td>\n",
       "      <td>0</td>\n",
       "      <td>0</td>\n",
       "      <td>0</td>\n",
       "      <td>0</td>\n",
       "      <td>...</td>\n",
       "      <td>0</td>\n",
       "      <td>0</td>\n",
       "      <td>0</td>\n",
       "      <td>0</td>\n",
       "      <td>0</td>\n",
       "      <td>0</td>\n",
       "      <td>0</td>\n",
       "      <td>0</td>\n",
       "      <td>0</td>\n",
       "      <td>4</td>\n",
       "    </tr>\n",
       "    <tr>\n",
       "      <th>3</th>\n",
       "      <td>0</td>\n",
       "      <td>0</td>\n",
       "      <td>0</td>\n",
       "      <td>0</td>\n",
       "      <td>0</td>\n",
       "      <td>0</td>\n",
       "      <td>0</td>\n",
       "      <td>0</td>\n",
       "      <td>0</td>\n",
       "      <td>0</td>\n",
       "      <td>...</td>\n",
       "      <td>0</td>\n",
       "      <td>0</td>\n",
       "      <td>0</td>\n",
       "      <td>0</td>\n",
       "      <td>0</td>\n",
       "      <td>0</td>\n",
       "      <td>0</td>\n",
       "      <td>0</td>\n",
       "      <td>0</td>\n",
       "      <td>1</td>\n",
       "    </tr>\n",
       "    <tr>\n",
       "      <th>4</th>\n",
       "      <td>0</td>\n",
       "      <td>0</td>\n",
       "      <td>0</td>\n",
       "      <td>0</td>\n",
       "      <td>0</td>\n",
       "      <td>0</td>\n",
       "      <td>0</td>\n",
       "      <td>0</td>\n",
       "      <td>0</td>\n",
       "      <td>0</td>\n",
       "      <td>...</td>\n",
       "      <td>0</td>\n",
       "      <td>0</td>\n",
       "      <td>0</td>\n",
       "      <td>0</td>\n",
       "      <td>0</td>\n",
       "      <td>0</td>\n",
       "      <td>0</td>\n",
       "      <td>0</td>\n",
       "      <td>0</td>\n",
       "      <td>9</td>\n",
       "    </tr>\n",
       "  </tbody>\n",
       "</table>\n",
       "<p>5 rows × 785 columns</p>\n",
       "</div>"
      ],
      "text/plain": [
       "   pixel1  pixel2  pixel3  pixel4  pixel5  pixel6  pixel7  pixel8  pixel9  \\\n",
       "0       0       0       0       0       0       0       0       0       0   \n",
       "1       0       0       0       0       0       0       0       0       0   \n",
       "2       0       0       0       0       0       0       0       0       0   \n",
       "3       0       0       0       0       0       0       0       0       0   \n",
       "4       0       0       0       0       0       0       0       0       0   \n",
       "\n",
       "   pixel10  ...  pixel776  pixel777  pixel778  pixel779  pixel780  pixel781  \\\n",
       "0        0  ...         0         0         0         0         0         0   \n",
       "1        0  ...         0         0         0         0         0         0   \n",
       "2        0  ...         0         0         0         0         0         0   \n",
       "3        0  ...         0         0         0         0         0         0   \n",
       "4        0  ...         0         0         0         0         0         0   \n",
       "\n",
       "   pixel782  pixel783  pixel784  class  \n",
       "0         0         0         0      5  \n",
       "1         0         0         0      0  \n",
       "2         0         0         0      4  \n",
       "3         0         0         0      1  \n",
       "4         0         0         0      9  \n",
       "\n",
       "[5 rows x 785 columns]"
      ]
     },
     "execution_count": 2,
     "metadata": {},
     "output_type": "execute_result"
    }
   ],
   "source": [
    "mnist_df = pd.read_csv(\"mnist_784.csv\")\n",
    "mnist_df.head()"
   ]
  },
  {
   "cell_type": "markdown",
   "id": "80862306",
   "metadata": {},
   "source": [
    "### There are  1 label and 784 feature columns. In this study we will look at the variances of these columns. After applying PCA we will see most of these features are redundant. "
   ]
  },
  {
   "cell_type": "code",
   "execution_count": 3,
   "id": "2c9aacba-9f4b-41ee-82c6-f88fd3afa63d",
   "metadata": {},
   "outputs": [
    {
     "name": "stdout",
     "output_type": "stream",
     "text": [
      "<class 'pandas.core.frame.DataFrame'>\n",
      "RangeIndex: 70000 entries, 0 to 69999\n",
      "Columns: 785 entries, pixel1 to class\n",
      "dtypes: int64(785)\n",
      "memory usage: 419.2 MB\n"
     ]
    }
   ],
   "source": [
    "mnist_df.info()   \n",
    "\n",
    "#all numeric values, no categoric values (computers does not love categoric data because they don't understand)"
   ]
  },
  {
   "cell_type": "code",
   "execution_count": 4,
   "id": "c98a3bc0-465c-4ea0-8d15-1b50da4fbdbc",
   "metadata": {},
   "outputs": [
    {
     "data": {
      "text/plain": [
       "1    7877\n",
       "7    7293\n",
       "3    7141\n",
       "2    6990\n",
       "9    6958\n",
       "0    6903\n",
       "6    6876\n",
       "8    6825\n",
       "4    6824\n",
       "5    6313\n",
       "Name: class, dtype: int64"
      ]
     },
     "execution_count": 4,
     "metadata": {},
     "output_type": "execute_result"
    }
   ],
   "source": [
    "mnist_df['class'].value_counts()   #unique count of the classes(label data: 0-9)"
   ]
  },
  {
   "cell_type": "code",
   "execution_count": 5,
   "id": "8849ccdc-5861-42a8-b54a-e3c701df379b",
   "metadata": {
    "tags": []
   },
   "outputs": [],
   "source": [
    "X = mnist_df.drop(labels='class', axis=1)      #obtain the features from the raw data as X"
   ]
  },
  {
   "cell_type": "code",
   "execution_count": 6,
   "id": "7a54af54-b330-469b-99f7-aa4666de1b95",
   "metadata": {
    "tags": []
   },
   "outputs": [],
   "source": [
    "y =  pd.DataFrame(mnist_df['class'])     #obtain the label from the raw data as y"
   ]
  },
  {
   "cell_type": "code",
   "execution_count": 7,
   "id": "b86903a6-f742-4b45-a87e-db761b3afa70",
   "metadata": {},
   "outputs": [],
   "source": [
    "X_train, X_test, y_train, y_test = train_test_split(\n",
    "     X, y,shuffle= True, stratify =y, test_size=0.3, random_state=42)\n",
    "\n",
    "# \"stratify = y\" guarantees the train data label(output) percentage as the raw data (we will see it later)\n",
    "# test_size=0.3 means that the train percentage is 70%. You can use 80%, 90% percentages as the train data.."
   ]
  },
  {
   "cell_type": "code",
   "execution_count": 8,
   "id": "250f7651-7ae5-452f-aff1-05093fff5c63",
   "metadata": {},
   "outputs": [
    {
     "data": {
      "text/plain": [
       "class\n",
       "1        7877\n",
       "7        7293\n",
       "3        7141\n",
       "2        6990\n",
       "9        6958\n",
       "0        6903\n",
       "6        6876\n",
       "8        6825\n",
       "4        6824\n",
       "5        6313\n",
       "dtype: int64"
      ]
     },
     "execution_count": 8,
     "metadata": {},
     "output_type": "execute_result"
    }
   ],
   "source": [
    "y.value_counts()"
   ]
  },
  {
   "cell_type": "code",
   "execution_count": 9,
   "id": "0eee30cb-342f-4cd4-9ced-a2c81a9151dc",
   "metadata": {},
   "outputs": [
    {
     "data": {
      "text/html": [
       "<div>\n",
       "<style scoped>\n",
       "    .dataframe tbody tr th:only-of-type {\n",
       "        vertical-align: middle;\n",
       "    }\n",
       "\n",
       "    .dataframe tbody tr th {\n",
       "        vertical-align: top;\n",
       "    }\n",
       "\n",
       "    .dataframe thead th {\n",
       "        text-align: right;\n",
       "    }\n",
       "</style>\n",
       "<table border=\"1\" class=\"dataframe\">\n",
       "  <thead>\n",
       "    <tr style=\"text-align: right;\">\n",
       "      <th></th>\n",
       "      <th>class_y</th>\n",
       "    </tr>\n",
       "    <tr>\n",
       "      <th>class</th>\n",
       "      <th></th>\n",
       "    </tr>\n",
       "  </thead>\n",
       "  <tbody>\n",
       "    <tr>\n",
       "      <th>0</th>\n",
       "      <td>0.098614</td>\n",
       "    </tr>\n",
       "    <tr>\n",
       "      <th>1</th>\n",
       "      <td>0.112529</td>\n",
       "    </tr>\n",
       "    <tr>\n",
       "      <th>2</th>\n",
       "      <td>0.099857</td>\n",
       "    </tr>\n",
       "    <tr>\n",
       "      <th>3</th>\n",
       "      <td>0.102014</td>\n",
       "    </tr>\n",
       "    <tr>\n",
       "      <th>4</th>\n",
       "      <td>0.097486</td>\n",
       "    </tr>\n",
       "    <tr>\n",
       "      <th>5</th>\n",
       "      <td>0.090186</td>\n",
       "    </tr>\n",
       "    <tr>\n",
       "      <th>6</th>\n",
       "      <td>0.098229</td>\n",
       "    </tr>\n",
       "    <tr>\n",
       "      <th>7</th>\n",
       "      <td>0.104186</td>\n",
       "    </tr>\n",
       "    <tr>\n",
       "      <th>8</th>\n",
       "      <td>0.097500</td>\n",
       "    </tr>\n",
       "    <tr>\n",
       "      <th>9</th>\n",
       "      <td>0.099400</td>\n",
       "    </tr>\n",
       "  </tbody>\n",
       "</table>\n",
       "</div>"
      ],
      "text/plain": [
       "        class_y\n",
       "class          \n",
       "0      0.098614\n",
       "1      0.112529\n",
       "2      0.099857\n",
       "3      0.102014\n",
       "4      0.097486\n",
       "5      0.090186\n",
       "6      0.098229\n",
       "7      0.104186\n",
       "8      0.097500\n",
       "9      0.099400"
      ]
     },
     "execution_count": 9,
     "metadata": {},
     "output_type": "execute_result"
    }
   ],
   "source": [
    "df_control_stratify = pd.DataFrame(y.value_counts(normalize=True, sort=False), columns =  ['class_y'])\n",
    "df_control_stratify"
   ]
  },
  {
   "cell_type": "code",
   "execution_count": 10,
   "id": "4f1c3760-ad3a-43e4-a0f3-b23664da4f0f",
   "metadata": {},
   "outputs": [
    {
     "data": {
      "text/html": [
       "<div>\n",
       "<style scoped>\n",
       "    .dataframe tbody tr th:only-of-type {\n",
       "        vertical-align: middle;\n",
       "    }\n",
       "\n",
       "    .dataframe tbody tr th {\n",
       "        vertical-align: top;\n",
       "    }\n",
       "\n",
       "    .dataframe thead th {\n",
       "        text-align: right;\n",
       "    }\n",
       "</style>\n",
       "<table border=\"1\" class=\"dataframe\">\n",
       "  <thead>\n",
       "    <tr style=\"text-align: right;\">\n",
       "      <th></th>\n",
       "      <th>class_y</th>\n",
       "      <th>class_ytrain</th>\n",
       "    </tr>\n",
       "    <tr>\n",
       "      <th>class</th>\n",
       "      <th></th>\n",
       "      <th></th>\n",
       "    </tr>\n",
       "  </thead>\n",
       "  <tbody>\n",
       "    <tr>\n",
       "      <th>0</th>\n",
       "      <td>0.098614</td>\n",
       "      <td>0.098612</td>\n",
       "    </tr>\n",
       "    <tr>\n",
       "      <th>1</th>\n",
       "      <td>0.112529</td>\n",
       "      <td>0.112531</td>\n",
       "    </tr>\n",
       "    <tr>\n",
       "      <th>2</th>\n",
       "      <td>0.099857</td>\n",
       "      <td>0.099857</td>\n",
       "    </tr>\n",
       "    <tr>\n",
       "      <th>3</th>\n",
       "      <td>0.102014</td>\n",
       "      <td>0.102020</td>\n",
       "    </tr>\n",
       "    <tr>\n",
       "      <th>4</th>\n",
       "      <td>0.097486</td>\n",
       "      <td>0.097490</td>\n",
       "    </tr>\n",
       "    <tr>\n",
       "      <th>5</th>\n",
       "      <td>0.090186</td>\n",
       "      <td>0.090184</td>\n",
       "    </tr>\n",
       "    <tr>\n",
       "      <th>6</th>\n",
       "      <td>0.098229</td>\n",
       "      <td>0.098224</td>\n",
       "    </tr>\n",
       "    <tr>\n",
       "      <th>7</th>\n",
       "      <td>0.104186</td>\n",
       "      <td>0.104184</td>\n",
       "    </tr>\n",
       "    <tr>\n",
       "      <th>8</th>\n",
       "      <td>0.097500</td>\n",
       "      <td>0.097490</td>\n",
       "    </tr>\n",
       "    <tr>\n",
       "      <th>9</th>\n",
       "      <td>0.099400</td>\n",
       "      <td>0.099408</td>\n",
       "    </tr>\n",
       "  </tbody>\n",
       "</table>\n",
       "</div>"
      ],
      "text/plain": [
       "        class_y  class_ytrain\n",
       "class                        \n",
       "0      0.098614      0.098612\n",
       "1      0.112529      0.112531\n",
       "2      0.099857      0.099857\n",
       "3      0.102014      0.102020\n",
       "4      0.097486      0.097490\n",
       "5      0.090186      0.090184\n",
       "6      0.098229      0.098224\n",
       "7      0.104186      0.104184\n",
       "8      0.097500      0.097490\n",
       "9      0.099400      0.099408"
      ]
     },
     "execution_count": 10,
     "metadata": {},
     "output_type": "execute_result"
    }
   ],
   "source": [
    "df_control_stratify ['class_ytrain']= pd.DataFrame(y_train.value_counts(normalize=True, sort=False))\n",
    "df_control_stratify\n",
    "\n",
    "# normalized version, very close percentages"
   ]
  },
  {
   "cell_type": "markdown",
   "id": "867a312c",
   "metadata": {},
   "source": [
    "## Scale Before PCA"
   ]
  },
  {
   "cell_type": "code",
   "execution_count": 11,
   "id": "94fbec70-eee3-4bc9-9a33-885c3365e818",
   "metadata": {
    "tags": []
   },
   "outputs": [],
   "source": [
    "scale_minmax = MinMaxScaler()\n",
    "X_train_scaled = scale_minmax.fit_transform(X_train)\n",
    "X_test_scaled = scale_minmax.transform(X_test)     \n",
    "#never fit test data while scaling, it causes data leakege\n",
    "\n",
    "# we have to scale data before PCA"
   ]
  },
  {
   "cell_type": "markdown",
   "id": "ab4ec86e",
   "metadata": {},
   "source": [
    "## Apply PCA"
   ]
  },
  {
   "cell_type": "code",
   "execution_count": 12,
   "id": "e1120883-61d5-4e17-9f89-107b55865767",
   "metadata": {
    "tags": []
   },
   "outputs": [
    {
     "data": {
      "text/html": [
       "<div>\n",
       "<style scoped>\n",
       "    .dataframe tbody tr th:only-of-type {\n",
       "        vertical-align: middle;\n",
       "    }\n",
       "\n",
       "    .dataframe tbody tr th {\n",
       "        vertical-align: top;\n",
       "    }\n",
       "\n",
       "    .dataframe thead th {\n",
       "        text-align: right;\n",
       "    }\n",
       "</style>\n",
       "<table border=\"1\" class=\"dataframe\">\n",
       "  <thead>\n",
       "    <tr style=\"text-align: right;\">\n",
       "      <th></th>\n",
       "      <th>Number of Components</th>\n",
       "      <th>Principal Components</th>\n",
       "    </tr>\n",
       "  </thead>\n",
       "  <tbody>\n",
       "    <tr>\n",
       "      <th>0</th>\n",
       "      <td>1</td>\n",
       "      <td>9.7393</td>\n",
       "    </tr>\n",
       "    <tr>\n",
       "      <th>1</th>\n",
       "      <td>2</td>\n",
       "      <td>7.1278</td>\n",
       "    </tr>\n",
       "    <tr>\n",
       "      <th>2</th>\n",
       "      <td>3</td>\n",
       "      <td>6.1400</td>\n",
       "    </tr>\n",
       "    <tr>\n",
       "      <th>3</th>\n",
       "      <td>4</td>\n",
       "      <td>5.4216</td>\n",
       "    </tr>\n",
       "    <tr>\n",
       "      <th>4</th>\n",
       "      <td>5</td>\n",
       "      <td>4.8883</td>\n",
       "    </tr>\n",
       "    <tr>\n",
       "      <th>...</th>\n",
       "      <td>...</td>\n",
       "      <td>...</td>\n",
       "    </tr>\n",
       "    <tr>\n",
       "      <th>779</th>\n",
       "      <td>780</td>\n",
       "      <td>0.0000</td>\n",
       "    </tr>\n",
       "    <tr>\n",
       "      <th>780</th>\n",
       "      <td>781</td>\n",
       "      <td>0.0000</td>\n",
       "    </tr>\n",
       "    <tr>\n",
       "      <th>781</th>\n",
       "      <td>782</td>\n",
       "      <td>0.0000</td>\n",
       "    </tr>\n",
       "    <tr>\n",
       "      <th>782</th>\n",
       "      <td>783</td>\n",
       "      <td>0.0000</td>\n",
       "    </tr>\n",
       "    <tr>\n",
       "      <th>783</th>\n",
       "      <td>784</td>\n",
       "      <td>0.0000</td>\n",
       "    </tr>\n",
       "  </tbody>\n",
       "</table>\n",
       "<p>784 rows × 2 columns</p>\n",
       "</div>"
      ],
      "text/plain": [
       "     Number of Components  Principal Components\n",
       "0                       1                9.7393\n",
       "1                       2                7.1278\n",
       "2                       3                6.1400\n",
       "3                       4                5.4216\n",
       "4                       5                4.8883\n",
       "..                    ...                   ...\n",
       "779                   780                0.0000\n",
       "780                   781                0.0000\n",
       "781                   782                0.0000\n",
       "782                   783                0.0000\n",
       "783                   784                0.0000\n",
       "\n",
       "[784 rows x 2 columns]"
      ]
     },
     "execution_count": 12,
     "metadata": {},
     "output_type": "execute_result"
    }
   ],
   "source": [
    "pca = PCA(n_components=len(X_train.columns))   # we implement PCA to all the dimensions to see the percentage change of the variance\n",
    "pca.fit(X_train_scaled)\n",
    "pca.transform(X_train_scaled)\n",
    "pca.transform(X_test_scaled)\n",
    "\n",
    "pca_df = pd.DataFrame(range(1,len(X.columns)+1), columns= [\"Number of Components\"])\n",
    "pca_df = pd.DataFrame(100*pca.explained_variance_ratio_.round(decimals=6), columns= [\"Principal Components\"])\n",
    "pca_df.index += 1\n",
    "\n",
    "pca_df = pd.DataFrame(range(1,len(X.columns)+1), columns= [\"Number of Components\"])\n",
    "pca_df [\"Principal Components\"] = 100*pca.explained_variance_ratio_.round(decimals=6)\n",
    "pca_df"
   ]
  },
  {
   "cell_type": "code",
   "execution_count": 13,
   "id": "e63231ed-dbf8-48c8-98fb-28782afa51e9",
   "metadata": {},
   "outputs": [
    {
     "data": {
      "text/html": [
       "<div>\n",
       "<style scoped>\n",
       "    .dataframe tbody tr th:only-of-type {\n",
       "        vertical-align: middle;\n",
       "    }\n",
       "\n",
       "    .dataframe tbody tr th {\n",
       "        vertical-align: top;\n",
       "    }\n",
       "\n",
       "    .dataframe thead th {\n",
       "        text-align: right;\n",
       "    }\n",
       "</style>\n",
       "<table border=\"1\" class=\"dataframe\">\n",
       "  <thead>\n",
       "    <tr style=\"text-align: right;\">\n",
       "      <th></th>\n",
       "      <th>Number of Components</th>\n",
       "      <th>Principal Components</th>\n",
       "      <th>PC Cumulative</th>\n",
       "    </tr>\n",
       "  </thead>\n",
       "  <tbody>\n",
       "    <tr>\n",
       "      <th>0</th>\n",
       "      <td>1</td>\n",
       "      <td>9.7393</td>\n",
       "      <td>9.7393</td>\n",
       "    </tr>\n",
       "    <tr>\n",
       "      <th>1</th>\n",
       "      <td>2</td>\n",
       "      <td>7.1278</td>\n",
       "      <td>16.8671</td>\n",
       "    </tr>\n",
       "    <tr>\n",
       "      <th>2</th>\n",
       "      <td>3</td>\n",
       "      <td>6.1400</td>\n",
       "      <td>23.0071</td>\n",
       "    </tr>\n",
       "    <tr>\n",
       "      <th>3</th>\n",
       "      <td>4</td>\n",
       "      <td>5.4216</td>\n",
       "      <td>28.4286</td>\n",
       "    </tr>\n",
       "    <tr>\n",
       "      <th>4</th>\n",
       "      <td>5</td>\n",
       "      <td>4.8883</td>\n",
       "      <td>33.3170</td>\n",
       "    </tr>\n",
       "    <tr>\n",
       "      <th>...</th>\n",
       "      <td>...</td>\n",
       "      <td>...</td>\n",
       "      <td>...</td>\n",
       "    </tr>\n",
       "    <tr>\n",
       "      <th>779</th>\n",
       "      <td>780</td>\n",
       "      <td>0.0000</td>\n",
       "      <td>100.0000</td>\n",
       "    </tr>\n",
       "    <tr>\n",
       "      <th>780</th>\n",
       "      <td>781</td>\n",
       "      <td>0.0000</td>\n",
       "      <td>100.0000</td>\n",
       "    </tr>\n",
       "    <tr>\n",
       "      <th>781</th>\n",
       "      <td>782</td>\n",
       "      <td>0.0000</td>\n",
       "      <td>100.0000</td>\n",
       "    </tr>\n",
       "    <tr>\n",
       "      <th>782</th>\n",
       "      <td>783</td>\n",
       "      <td>0.0000</td>\n",
       "      <td>100.0000</td>\n",
       "    </tr>\n",
       "    <tr>\n",
       "      <th>783</th>\n",
       "      <td>784</td>\n",
       "      <td>0.0000</td>\n",
       "      <td>100.0000</td>\n",
       "    </tr>\n",
       "  </tbody>\n",
       "</table>\n",
       "<p>784 rows × 3 columns</p>\n",
       "</div>"
      ],
      "text/plain": [
       "     Number of Components  Principal Components  PC Cumulative\n",
       "0                       1                9.7393         9.7393\n",
       "1                       2                7.1278        16.8671\n",
       "2                       3                6.1400        23.0071\n",
       "3                       4                5.4216        28.4286\n",
       "4                       5                4.8883        33.3170\n",
       "..                    ...                   ...            ...\n",
       "779                   780                0.0000       100.0000\n",
       "780                   781                0.0000       100.0000\n",
       "781                   782                0.0000       100.0000\n",
       "782                   783                0.0000       100.0000\n",
       "783                   784                0.0000       100.0000\n",
       "\n",
       "[784 rows x 3 columns]"
      ]
     },
     "execution_count": 13,
     "metadata": {},
     "output_type": "execute_result"
    }
   ],
   "source": [
    "pca_cumsum = np.cumsum(pca.explained_variance_ratio_*100)\n",
    "pca_df['PC Cumulative'] = pca_cumsum.round(decimals=4)\n",
    "pca_df\n",
    "# if component is 1, the percentage is 9.74%\n",
    "# if component is 5, the percentage reaches to 33.34%.... and so on"
   ]
  },
  {
   "cell_type": "code",
   "execution_count": 14,
   "id": "cbae5a5f-f852-4ac3-9b7b-1d2c014486cd",
   "metadata": {},
   "outputs": [],
   "source": [
    "pca_df.to_html('mnist data_PCA example.html')  #we save the results as html file.."
   ]
  },
  {
   "cell_type": "markdown",
   "id": "ac54b22e",
   "metadata": {},
   "source": [
    "## How to decide the optimum component number?"
   ]
  },
  {
   "cell_type": "code",
   "execution_count": 15,
   "id": "885847f0",
   "metadata": {},
   "outputs": [
    {
     "data": {
      "text/html": [
       "<div>\n",
       "<style scoped>\n",
       "    .dataframe tbody tr th:only-of-type {\n",
       "        vertical-align: middle;\n",
       "    }\n",
       "\n",
       "    .dataframe tbody tr th {\n",
       "        vertical-align: top;\n",
       "    }\n",
       "\n",
       "    .dataframe thead th {\n",
       "        text-align: right;\n",
       "    }\n",
       "</style>\n",
       "<table border=\"1\" class=\"dataframe\">\n",
       "  <thead>\n",
       "    <tr style=\"text-align: right;\">\n",
       "      <th></th>\n",
       "      <th>Number of Components</th>\n",
       "      <th>Principal Components</th>\n",
       "      <th>PC Cumulative</th>\n",
       "    </tr>\n",
       "  </thead>\n",
       "  <tbody>\n",
       "    <tr>\n",
       "      <th>0</th>\n",
       "      <td>1</td>\n",
       "      <td>9.7393</td>\n",
       "      <td>9.7393</td>\n",
       "    </tr>\n",
       "    <tr>\n",
       "      <th>1</th>\n",
       "      <td>2</td>\n",
       "      <td>7.1278</td>\n",
       "      <td>16.8671</td>\n",
       "    </tr>\n",
       "    <tr>\n",
       "      <th>2</th>\n",
       "      <td>3</td>\n",
       "      <td>6.1400</td>\n",
       "      <td>23.0071</td>\n",
       "    </tr>\n",
       "    <tr>\n",
       "      <th>3</th>\n",
       "      <td>4</td>\n",
       "      <td>5.4216</td>\n",
       "      <td>28.4286</td>\n",
       "    </tr>\n",
       "    <tr>\n",
       "      <th>4</th>\n",
       "      <td>5</td>\n",
       "      <td>4.8883</td>\n",
       "      <td>33.3170</td>\n",
       "    </tr>\n",
       "  </tbody>\n",
       "</table>\n",
       "</div>"
      ],
      "text/plain": [
       "   Number of Components  Principal Components  PC Cumulative\n",
       "0                     1                9.7393         9.7393\n",
       "1                     2                7.1278        16.8671\n",
       "2                     3                6.1400        23.0071\n",
       "3                     4                5.4216        28.4286\n",
       "4                     5                4.8883        33.3170"
      ]
     },
     "execution_count": 15,
     "metadata": {},
     "output_type": "execute_result"
    }
   ],
   "source": [
    "pca_df.head()"
   ]
  },
  {
   "cell_type": "code",
   "execution_count": 16,
   "id": "48ea2289",
   "metadata": {},
   "outputs": [
    {
     "data": {
      "image/png": "[encoded data removed]",
      "text/plain": [
       "<Figure size 1080x576 with 1 Axes>"
      ]
     },
     "metadata": {
      "needs_background": "light"
     },
     "output_type": "display_data"
    }
   ],
   "source": [
    "plt.figure(figsize=(15, 8))\n",
    "#plt.ylim(0 , 120, 5)\n",
    "plt.xlim(1 , len(pca_df), 5)\n",
    "plt.xlabel('Number of Components')\n",
    "plt.ylabel('Cumulative Percentage of Components')\n",
    "plt.title('Graph of All PCA Components')\n",
    "\n",
    "#plt.margins(x=0, y=0)\n",
    "#plt.margins()\n",
    "\n",
    "#plt.plot(pca_df.index.values, pca_df['PC Cumulative'], 'bo-')\n",
    "plt.plot(pca_df.index.values, pca_df['PC Cumulative'], 'b', lw=2)\n",
    "plt.axhline(90, ls=\"--\",lw = '3', c='y')\n",
    "plt.axhline(95, ls=\"--\", lw = '3', c='g')\n",
    "plt.axhline(99, ls=\"--\", lw = '3', c='r')\n",
    "#plt.xticks(pca_df.index.values)\n",
    "\n",
    "plt.show()"
   ]
  },
  {
   "cell_type": "markdown",
   "id": "04e4f7cd",
   "metadata": {},
   "source": [
    "### In Matplotlib graph we do not see variance and component numbers well. Let's use plotly express graph."
   ]
  },
  {
   "cell_type": "code",
   "execution_count": 17,
   "id": "09f0724e",
   "metadata": {},
   "outputs": [
    {
     "data": {
      "application/vnd.plotly.v1+json": {
       "config": {
        "plotlyServerURL": "https://plot.ly"
       },
       "data": [
        {
         "legendgroup": "",
         "line": {
          "color": "blue",
          "dash": "solid"
         },
         "marker": {
          "symbol": "circle"
         },
         "mode": "markers+lines",
         "name": "",
         "orientation": "v",
         "showlegend": false,
         "type": "scatter",
         "x": [
          1,
          2,
          3,
          4,
          5,
          6,
          7,
          8,
          9,
          10,
          11,
          12,
          13,
          14,
          15,
          16,
          17,
          18,
          19,
          20,
          21,
          22,
          23,
          24,
          25,
          26,
          27,
          28,
          29,
          30,
          31,
          32,
          33,
          34,
          35,
          36,
          37,
          38,
          39,
          40,
          41,
          42,
          43,
          44,
          45,
          46,
          47,
          48,
          49,
          50,
          51,
          52,
          53,
          54,
          55,
          56,
          57,
          58,
          59,
          60,
          61,
          62,
          63,
          64,
          65,
          66,
          67,
          68,
          69,
          70,
          71,
          72,
          73,
          74,
          75,
          76,
          77,
          78,
          79,
          80,
          81,
          82,
          83,
          84,
          85,
          86,
          87,
          88,
          89,
          90,
          91,
          92,
          93,
          94,
          95,
          96,
          97,
          98,
          99,
          100,
          101,
          102,
          103,
          104,
          105,
          106,
          107,
          108,
          109,
          110,
          111,
          112,
          113,
          114,
          115,
          116,
          117,
          118,
          119,
          120,
          121,
          122,
          123,
          124,
          125,
          126,
          127,
          128,
          129,
          130,
          131,
          132,
          133,
          134,
          135,
          136,
          137,
          138,
          139,
          140,
          141,
          142,
          143,
          144,
          145,
          146,
          147,
          148,
          149,
          150,
          151,
          152,
          153,
          154,
          155,
          156,
          157,
          158,
          159,
          160,
          161,
          162,
          163,
          164,
          165,
          166,
          167,
          168,
          169,
          170,
          171,
          172,
          173,
          174,
          175,
          176,
          177,
          178,
          179,
          180,
          181,
          182,
          183,
          184,
          185,
          186,
          187,
          188,
          189,
          190,
          191,
          192,
          193,
          194,
          195,
          196,
          197,
          198,
          199,
          200,
          201,
          202,
          203,
          204,
          205,
          206,
          207,
          208,
          209,
          210,
          211,
          212,
          213,
          214,
          215,
          216,
          217,
          218,
          219,
          220,
          221,
          222,
          223,
          224,
          225,
          226,
          227,
          228,
          229,
          230,
          231,
          232,
          233,
          234,
          235,
          236,
          237,
          238,
          239,
          240,
          241,
          242,
          243,
          244,
          245,
          246,
          247,
          248,
          249,
          250,
          251,
          252,
          253,
          254,
          255,
          256,
          257,
          258,
          259,
          260,
          261,
          262,
          263,
          264,
          265,
          266,
          267,
          268,
          269,
          270,
          271,
          272,
          273,
          274,
          275,
          276,
          277,
          278,
          279,
          280,
          281,
          282,
          283,
          284,
          285,
          286,
          287,
          288,
          289,
          290,
          291,
          292,
          293,
          294,
          295,
          296,
          297,
          298,
          299,
          300,
          301,
          302,
          303,
          304,
          305,
          306,
          307,
          308,
          309,
          310,
          311,
          312,
          313,
          314,
          315,
          316,
          317,
          318,
          319,
          320,
          321,
          322,
          323,
          324,
          325,
          326,
          327,
          328,
          329,
          330,
          331,
          332,
          333,
          334,
          335,
          336,
          337,
          338,
          339,
          340,
          341,
          342,
          343,
          344,
          345,
          346,
          347,
          348,
          349,
          350,
          351,
          352,
          353,
          354,
          355,
          356,
          357,
          358,
          359,
          360,
          361,
          362,
          363,
          364,
          365,
          366,
          367,
          368,
          369,
          370,
          371,
          372,
          373,
          374,
          375,
          376,
          377,
          378,
          379,
          380,
          381,
          382,
          383,
          384,
          385,
          386,
          387,
          388,
          389,
          390,
          391,
          392,
          393,
          394,
          395,
          396,
          397,
          398,
          399,
          400,
          401,
          402,
          403,
          404,
          405,
          406,
          407,
          408,
          409,
          410,
          411,
          412,
          413,
          414,
          415,
          416,
          417,
          418,
          419,
          420,
          421,
          422,
          423,
          424,
          425,
          426,
          427,
          428,
          429,
          430,
          431,
          432,
          433,
          434,
          435,
          436,
          437,
          438,
          439,
          440,
          441,
          442,
          443,
          444,
          445,
          446,
          447,
          448,
          449,
          450,
          451,
          452,
          453,
          454,
          455,
          456,
          457,
          458,
          459,
          460,
          461,
          462,
          463,
          464,
          465,
          466,
          467,
          468,
          469,
          470,
          471,
          472,
          473,
          474,
          475,
          476,
          477,
          478,
          479,
          480,
          481,
          482,
          483,
          484,
          485,
          486,
          487,
          488,
          489,
          490,
          491,
          492,
          493,
          494,
          495,
          496,
          497,
          498,
          499,
          500,
          501,
          502,
          503,
          504,
          505,
          506,
          507,
          508,
          509,
          510,
          511,
          512,
          513,
          514,
          515,
          516,
          517,
          518,
          519,
          520,
          521,
          522,
          523,
          524,
          525,
          526,
          527,
          528,
          529,
          530,
          531,
          532,
          533,
          534,
          535,
          536,
          537,
          538,
          539,
          540,
          541,
          542,
          543,
          544,
          545,
          546,
          547,
          548,
          549,
          550,
          551,
          552,
          553,
          554,
          555,
          556,
          557,
          558,
          559,
          560,
          561,
          562,
          563,
          564,
          565,
          566,
          567,
          568,
          569,
          570,
          571,
          572,
          573,
          574,
          575,
          576,
          577,
          578,
          579,
          580,
          581,
          582,
          583,
          584,
          585,
          586,
          587,
          588,
          589,
          590,
          591,
          592,
          593,
          594,
          595,
          596,
          597,
          598,
          599,
          600,
          601,
          602,
          603,
          604,
          605,
          606,
          607,
          608,
          609,
          610,
          611,
          612,
          613,
          614,
          615,
          616,
          617,
          618,
          619,
          620,
          621,
          622,
          623,
          624,
          625,
          626,
          627,
          628,
          629,
          630,
          631,
          632,
          633,
          634,
          635,
          636,
          637,
          638,
          639,
          640,
          641,
          642,
          643,
          644,
          645,
          646,
          647,
          648,
          649,
          650,
          651,
          652,
          653,
          654,
          655,
          656,
          657,
          658,
          659,
          660,
          661,
          662,
          663,
          664,
          665,
          666,
          667,
          668,
          669,
          670,
          671,
          672,
          673,
          674,
          675,
          676,
          677,
          678,
          679,
          680,
          681,
          682,
          683,
          684,
          685,
          686,
          687,
          688,
          689,
          690,
          691,
          692,
          693,
          694,
          695,
          696,
          697,
          698,
          699,
          700,
          701,
          702,
          703,
          704,
          705,
          706,
          707,
          708,
          709,
          710,
          711,
          712,
          713,
          714,
          715,
          716,
          717,
          718,
          719,
          720,
          721,
          722,
          723,
          724,
          725,
          726,
          727,
          728,
          729,
          730,
          731,
          732,
          733,
          734,
          735,
          736,
          737,
          738,
          739,
          740,
          741,
          742,
          743,
          744,
          745,
          746,
          747,
          748,
          749,
          750,
          751,
          752,
          753,
          754,
          755,
          756,
          757,
          758,
          759,
          760,
          761,
          762,
          763,
          764,
          765,
          766,
          767,
          768,
          769,
          770,
          771,
          772,
          773,
          774,
          775,
          776,
          777,
          778,
          779,
          780,
          781,
          782,
          783,
          784
         ],
         "xaxis": "x",
         "y": [
          9.7393,
          16.8671,
          23.0071,
          28.4286,
          33.317,
          37.6307,
          40.9008,
          43.7915,
          46.5473,
          48.9029,
          51.0087,
          53.0476,
          54.7632,
          56.4612,
          58.046,
          59.5357,
          60.8493,
          62.1272,
          63.3158,
          64.4681,
          65.5373,
          66.5455,
          67.5038,
          68.4182,
          69.3056,
          70.145,
          70.9562,
          71.7416,
          72.482,
          73.1726,
          73.8315,
          74.4791,
          75.08,
          75.6668,
          76.2328,
          76.7778,
          77.2802,
          77.7671,
          78.2489,
          78.7165,
          79.1703,
          79.6122,
          80.0285,
          80.4237,
          80.8072,
          81.183,
          81.5459,
          81.8946,
          82.2327,
          82.5533,
          82.8692,
          83.1799,
          83.4762,
          83.7617,
          84.044,
          84.3127,
          84.5802,
          84.8377,
          85.0928,
          85.3381,
          85.5772,
          85.8157,
          86.046,
          86.2664,
          86.4803,
          86.6864,
          86.8895,
          87.0851,
          87.2769,
          87.4655,
          87.6524,
          87.8327,
          88.0096,
          88.183,
          88.3474,
          88.5107,
          88.6715,
          88.8263,
          88.9733,
          89.1148,
          89.2555,
          89.3955,
          89.534,
          89.6698,
          89.8015,
          89.9326,
          90.0616,
          90.1873,
          90.3104,
          90.4307,
          90.5474,
          90.6617,
          90.7743,
          90.8843,
          90.992,
          91.099,
          91.2028,
          91.3061,
          91.4069,
          91.5065,
          91.604,
          91.6981,
          91.7912,
          91.8824,
          91.9725,
          92.0608,
          92.1476,
          92.2327,
          92.3167,
          92.3986,
          92.4774,
          92.5549,
          92.6323,
          92.7083,
          92.7839,
          92.8585,
          92.9319,
          93.0042,
          93.0754,
          93.1456,
          93.2148,
          93.2833,
          93.3515,
          93.4183,
          93.4843,
          93.5486,
          93.6116,
          93.6741,
          93.7361,
          93.7964,
          93.8564,
          93.9152,
          93.9737,
          94.0317,
          94.0892,
          94.1462,
          94.2026,
          94.2578,
          94.3116,
          94.3643,
          94.4164,
          94.4674,
          94.5177,
          94.5672,
          94.6166,
          94.6656,
          94.7141,
          94.762,
          94.8091,
          94.8557,
          94.9019,
          94.948,
          94.9937,
          95.0386,
          95.083,
          95.1269,
          95.1707,
          95.2133,
          95.2555,
          95.2972,
          95.3384,
          95.3789,
          95.4187,
          95.4582,
          95.4972,
          95.5362,
          95.5743,
          95.6122,
          95.6498,
          95.687,
          95.7236,
          95.76,
          95.796,
          95.8317,
          95.867,
          95.9022,
          95.9368,
          95.9712,
          96.0055,
          96.0396,
          96.073,
          96.1059,
          96.1386,
          96.171,
          96.2033,
          96.2353,
          96.2669,
          96.2983,
          96.3294,
          96.3604,
          96.391,
          96.4213,
          96.4513,
          96.4811,
          96.5107,
          96.5401,
          96.5695,
          96.5985,
          96.6271,
          96.6553,
          96.6833,
          96.7111,
          96.7386,
          96.7658,
          96.7927,
          96.8194,
          96.8459,
          96.8723,
          96.8984,
          96.9244,
          96.9501,
          96.9757,
          97.0011,
          97.0263,
          97.0513,
          97.0761,
          97.1007,
          97.1252,
          97.1494,
          97.1736,
          97.1976,
          97.2215,
          97.2452,
          97.2689,
          97.2921,
          97.3153,
          97.3383,
          97.3609,
          97.3835,
          97.4059,
          97.428,
          97.4499,
          97.4717,
          97.4933,
          97.5148,
          97.5361,
          97.5573,
          97.5782,
          97.5991,
          97.6198,
          97.6402,
          97.6606,
          97.6807,
          97.7006,
          97.7205,
          97.7402,
          97.7597,
          97.7791,
          97.7984,
          97.8176,
          97.8367,
          97.8555,
          97.8742,
          97.8929,
          97.9114,
          97.9298,
          97.9482,
          97.9664,
          97.9845,
          98.0025,
          98.0203,
          98.0379,
          98.0554,
          98.0728,
          98.0901,
          98.1073,
          98.1243,
          98.1413,
          98.1581,
          98.1748,
          98.1915,
          98.208,
          98.2244,
          98.2408,
          98.2571,
          98.2733,
          98.2892,
          98.3051,
          98.3209,
          98.3366,
          98.3521,
          98.3676,
          98.3829,
          98.3982,
          98.4133,
          98.4284,
          98.4433,
          98.4582,
          98.4729,
          98.4876,
          98.502,
          98.5164,
          98.5306,
          98.5448,
          98.5589,
          98.5729,
          98.5867,
          98.6004,
          98.614,
          98.6275,
          98.641,
          98.6544,
          98.6677,
          98.6809,
          98.694,
          98.707,
          98.7198,
          98.7326,
          98.7452,
          98.7578,
          98.7704,
          98.783,
          98.7955,
          98.8078,
          98.82,
          98.8321,
          98.8441,
          98.8561,
          98.868,
          98.8797,
          98.8914,
          98.9031,
          98.9147,
          98.9262,
          98.9377,
          98.9491,
          98.9603,
          98.9714,
          98.9825,
          98.9935,
          99.0045,
          99.0154,
          99.0262,
          99.0369,
          99.0475,
          99.0581,
          99.0686,
          99.079,
          99.0893,
          99.0996,
          99.1098,
          99.1198,
          99.1298,
          99.1398,
          99.1497,
          99.1595,
          99.1692,
          99.1788,
          99.1883,
          99.1977,
          99.2071,
          99.2165,
          99.2257,
          99.2349,
          99.244,
          99.2531,
          99.262,
          99.2709,
          99.2798,
          99.2885,
          99.2972,
          99.3058,
          99.3144,
          99.3229,
          99.3312,
          99.3396,
          99.3478,
          99.3561,
          99.3643,
          99.3724,
          99.3804,
          99.3883,
          99.3962,
          99.404,
          99.4118,
          99.4194,
          99.427,
          99.4346,
          99.442,
          99.4494,
          99.4567,
          99.4639,
          99.4711,
          99.4782,
          99.4853,
          99.4923,
          99.4993,
          99.5062,
          99.5129,
          99.5197,
          99.5264,
          99.5329,
          99.5393,
          99.5457,
          99.552,
          99.5583,
          99.5644,
          99.5705,
          99.5765,
          99.5825,
          99.5884,
          99.5942,
          99.6,
          99.6057,
          99.6113,
          99.617,
          99.6225,
          99.6279,
          99.6333,
          99.6387,
          99.644,
          99.6493,
          99.6545,
          99.6596,
          99.6647,
          99.6697,
          99.6747,
          99.6796,
          99.6845,
          99.6893,
          99.6939,
          99.6986,
          99.7032,
          99.7078,
          99.7123,
          99.7167,
          99.7211,
          99.7253,
          99.7296,
          99.7338,
          99.7379,
          99.742,
          99.7461,
          99.7501,
          99.7541,
          99.758,
          99.7619,
          99.7657,
          99.7694,
          99.7732,
          99.7768,
          99.7805,
          99.784,
          99.7875,
          99.791,
          99.7945,
          99.7979,
          99.8013,
          99.8046,
          99.8079,
          99.8111,
          99.8142,
          99.8173,
          99.8204,
          99.8234,
          99.8264,
          99.8293,
          99.8323,
          99.8351,
          99.8379,
          99.8407,
          99.8435,
          99.8462,
          99.8489,
          99.8514,
          99.8539,
          99.8564,
          99.8589,
          99.8614,
          99.8638,
          99.8662,
          99.8686,
          99.8709,
          99.8732,
          99.8755,
          99.8778,
          99.88,
          99.8822,
          99.8844,
          99.8865,
          99.8886,
          99.8906,
          99.8927,
          99.8947,
          99.8967,
          99.8986,
          99.9006,
          99.9025,
          99.9044,
          99.9062,
          99.908,
          99.9098,
          99.9116,
          99.9133,
          99.9149,
          99.9165,
          99.9181,
          99.9197,
          99.9212,
          99.9228,
          99.9243,
          99.9258,
          99.9273,
          99.9287,
          99.9301,
          99.9315,
          99.9328,
          99.9342,
          99.9355,
          99.9368,
          99.9381,
          99.9394,
          99.9406,
          99.9418,
          99.943,
          99.9441,
          99.9453,
          99.9464,
          99.9476,
          99.9487,
          99.9498,
          99.9509,
          99.952,
          99.9531,
          99.9541,
          99.9551,
          99.9561,
          99.9571,
          99.958,
          99.9589,
          99.9598,
          99.9607,
          99.9616,
          99.9624,
          99.9632,
          99.964,
          99.9648,
          99.9656,
          99.9664,
          99.9671,
          99.9679,
          99.9686,
          99.9694,
          99.9701,
          99.9708,
          99.9715,
          99.9722,
          99.9729,
          99.9736,
          99.9742,
          99.9748,
          99.9753,
          99.9759,
          99.9765,
          99.977,
          99.9775,
          99.9781,
          99.9786,
          99.9791,
          99.9796,
          99.98,
          99.9805,
          99.9809,
          99.9814,
          99.9818,
          99.9823,
          99.9827,
          99.9831,
          99.9835,
          99.9839,
          99.9843,
          99.9847,
          99.985,
          99.9854,
          99.9857,
          99.9861,
          99.9864,
          99.9867,
          99.987,
          99.9874,
          99.9877,
          99.988,
          99.9883,
          99.9885,
          99.9888,
          99.9891,
          99.9894,
          99.9896,
          99.9898,
          99.9901,
          99.9903,
          99.9905,
          99.9908,
          99.991,
          99.9912,
          99.9914,
          99.9916,
          99.9918,
          99.992,
          99.9922,
          99.9924,
          99.9926,
          99.9928,
          99.993,
          99.9931,
          99.9933,
          99.9935,
          99.9937,
          99.9938,
          99.994,
          99.9941,
          99.9943,
          99.9944,
          99.9946,
          99.9947,
          99.9949,
          99.995,
          99.9951,
          99.9952,
          99.9954,
          99.9955,
          99.9956,
          99.9957,
          99.9958,
          99.996,
          99.9961,
          99.9962,
          99.9963,
          99.9964,
          99.9965,
          99.9966,
          99.9967,
          99.9968,
          99.9969,
          99.997,
          99.9971,
          99.9971,
          99.9972,
          99.9973,
          99.9974,
          99.9975,
          99.9976,
          99.9976,
          99.9977,
          99.9978,
          99.9979,
          99.998,
          99.998,
          99.9981,
          99.9982,
          99.9982,
          99.9983,
          99.9984,
          99.9984,
          99.9985,
          99.9986,
          99.9986,
          99.9987,
          99.9987,
          99.9988,
          99.9988,
          99.9989,
          99.9989,
          99.999,
          99.999,
          99.9991,
          99.9991,
          99.9992,
          99.9992,
          99.9992,
          99.9993,
          99.9993,
          99.9993,
          99.9994,
          99.9994,
          99.9994,
          99.9995,
          99.9995,
          99.9995,
          99.9996,
          99.9996,
          99.9996,
          99.9997,
          99.9997,
          99.9997,
          99.9997,
          99.9998,
          99.9998,
          99.9998,
          99.9998,
          99.9999,
          99.9999,
          99.9999,
          99.9999,
          99.9999,
          99.9999,
          99.9999,
          100,
          100,
          100,
          100,
          100,
          100,
          100,
          100,
          100,
          100,
          100,
          100,
          100,
          100,
          100,
          100,
          100,
          100,
          100,
          100,
          100,
          100,
          100,
          100,
          100,
          100,
          100,
          100,
          100,
          100,
          100,
          100,
          100,
          100,
          100,
          100,
          100,
          100,
          100,
          100,
          100,
          100,
          100,
          100,
          100,
          100,
          100,
          100,
          100,
          100,
          100,
          100,
          100,
          100,
          100,
          100,
          100,
          100,
          100,
          100,
          100,
          100,
          100,
          100,
          100,
          100,
          100,
          100,
          100,
          100,
          100,
          100,
          100,
          100,
          100,
          100,
          100,
          100,
          100,
          100,
          100,
          100,
          100,
          100,
          100,
          100,
          100
         ],
         "yaxis": "y"
        }
       ],
       "layout": {
        "autosize": false,
        "height": 600,
        "hovermode": "x",
        "legend": {
         "tracegroupgap": 0
        },
        "template": {
         "data": {
          "bar": [
           {
            "error_x": {
             "color": "#2a3f5f"
            },
            "error_y": {
             "color": "#2a3f5f"
            },
            "marker": {
             "line": {
              "color": "#E5ECF6",
              "width": 0.5
             },
             "pattern": {
              "fillmode": "overlay",
              "size": 10,
              "solidity": 0.2
             }
            },
            "type": "bar"
           }
          ],
          "barpolar": [
           {
            "marker": {
             "line": {
              "color": "#E5ECF6",
              "width": 0.5
             },
             "pattern": {
              "fillmode": "overlay",
              "size": 10,
              "solidity": 0.2
             }
            },
            "type": "barpolar"
           }
          ],
          "carpet": [
           {
            "aaxis": {
             "endlinecolor": "#2a3f5f",
             "gridcolor": "white",
             "linecolor": "white",
             "minorgridcolor": "white",
             "startlinecolor": "#2a3f5f"
            },
            "baxis": {
             "endlinecolor": "#2a3f5f",
             "gridcolor": "white",
             "linecolor": "white",
             "minorgridcolor": "white",
             "startlinecolor": "#2a3f5f"
            },
            "type": "carpet"
           }
          ],
          "choropleth": [
           {
            "colorbar": {
             "outlinewidth": 0,
             "ticks": ""
            },
            "type": "choropleth"
           }
          ],
          "contour": [
           {
            "colorbar": {
             "outlinewidth": 0,
             "ticks": ""
            },
            "colorscale": [
             [
              0,
              "#0d0887"
             ],
             [
              0.1111111111111111,
              "#46039f"
             ],
             [
              0.2222222222222222,
              "#7201a8"
             ],
             [
              0.3333333333333333,
              "#9c179e"
             ],
             [
              0.4444444444444444,
              "#bd3786"
             ],
             [
              0.5555555555555556,
              "#d8576b"
             ],
             [
              0.6666666666666666,
              "#ed7953"
             ],
             [
              0.7777777777777778,
              "#fb9f3a"
             ],
             [
              0.8888888888888888,
              "#fdca26"
             ],
             [
              1,
              "#f0f921"
             ]
            ],
            "type": "contour"
           }
          ],
          "contourcarpet": [
           {
            "colorbar": {
             "outlinewidth": 0,
             "ticks": ""
            },
            "type": "contourcarpet"
           }
          ],
          "heatmap": [
           {
            "colorbar": {
             "outlinewidth": 0,
             "ticks": ""
            },
            "colorscale": [
             [
              0,
              "#0d0887"
             ],
             [
              0.1111111111111111,
              "#46039f"
             ],
             [
              0.2222222222222222,
              "#7201a8"
             ],
             [
              0.3333333333333333,
              "#9c179e"
             ],
             [
              0.4444444444444444,
              "#bd3786"
             ],
             [
              0.5555555555555556,
              "#d8576b"
             ],
             [
              0.6666666666666666,
              "#ed7953"
             ],
             [
              0.7777777777777778,
              "#fb9f3a"
             ],
             [
              0.8888888888888888,
              "#fdca26"
             ],
             [
              1,
              "#f0f921"
             ]
            ],
            "type": "heatmap"
           }
          ],
          "heatmapgl": [
           {
            "colorbar": {
             "outlinewidth": 0,
             "ticks": ""
            },
            "colorscale": [
             [
              0,
              "#0d0887"
             ],
             [
              0.1111111111111111,
              "#46039f"
             ],
             [
              0.2222222222222222,
              "#7201a8"
             ],
             [
              0.3333333333333333,
              "#9c179e"
             ],
             [
              0.4444444444444444,
              "#bd3786"
             ],
             [
              0.5555555555555556,
              "#d8576b"
             ],
             [
              0.6666666666666666,
              "#ed7953"
             ],
             [
              0.7777777777777778,
              "#fb9f3a"
             ],
             [
              0.8888888888888888,
              "#fdca26"
             ],
             [
              1,
              "#f0f921"
             ]
            ],
            "type": "heatmapgl"
           }
          ],
          "histogram": [
           {
            "marker": {
             "pattern": {
              "fillmode": "overlay",
              "size": 10,
              "solidity": 0.2
             }
            },
            "type": "histogram"
           }
          ],
          "histogram2d": [
           {
            "colorbar": {
             "outlinewidth": 0,
             "ticks": ""
            },
            "colorscale": [
             [
              0,
              "#0d0887"
             ],
             [
              0.1111111111111111,
              "#46039f"
             ],
             [
              0.2222222222222222,
              "#7201a8"
             ],
             [
              0.3333333333333333,
              "#9c179e"
             ],
             [
              0.4444444444444444,
              "#bd3786"
             ],
             [
              0.5555555555555556,
              "#d8576b"
             ],
             [
              0.6666666666666666,
              "#ed7953"
             ],
             [
              0.7777777777777778,
              "#fb9f3a"
             ],
             [
              0.8888888888888888,
              "#fdca26"
             ],
             [
              1,
              "#f0f921"
             ]
            ],
            "type": "histogram2d"
           }
          ],
          "histogram2dcontour": [
           {
            "colorbar": {
             "outlinewidth": 0,
             "ticks": ""
            },
            "colorscale": [
             [
              0,
              "#0d0887"
             ],
             [
              0.1111111111111111,
              "#46039f"
             ],
             [
              0.2222222222222222,
              "#7201a8"
             ],
             [
              0.3333333333333333,
              "#9c179e"
             ],
             [
              0.4444444444444444,
              "#bd3786"
             ],
             [
              0.5555555555555556,
              "#d8576b"
             ],
             [
              0.6666666666666666,
              "#ed7953"
             ],
             [
              0.7777777777777778,
              "#fb9f3a"
             ],
             [
              0.8888888888888888,
              "#fdca26"
             ],
             [
              1,
              "#f0f921"
             ]
            ],
            "type": "histogram2dcontour"
           }
          ],
          "mesh3d": [
           {
            "colorbar": {
             "outlinewidth": 0,
             "ticks": ""
            },
            "type": "mesh3d"
           }
          ],
          "parcoords": [
           {
            "line": {
             "colorbar": {
              "outlinewidth": 0,
              "ticks": ""
             }
            },
            "type": "parcoords"
           }
          ],
          "pie": [
           {
            "automargin": true,
            "type": "pie"
           }
          ],
          "scatter": [
           {
            "marker": {
             "colorbar": {
              "outlinewidth": 0,
              "ticks": ""
             }
            },
            "type": "scatter"
           }
          ],
          "scatter3d": [
           {
            "line": {
             "colorbar": {
              "outlinewidth": 0,
              "ticks": ""
             }
            },
            "marker": {
             "colorbar": {
              "outlinewidth": 0,
              "ticks": ""
             }
            },
            "type": "scatter3d"
           }
          ],
          "scattercarpet": [
           {
            "marker": {
             "colorbar": {
              "outlinewidth": 0,
              "ticks": ""
             }
            },
            "type": "scattercarpet"
           }
          ],
          "scattergeo": [
           {
            "marker": {
             "colorbar": {
              "outlinewidth": 0,
              "ticks": ""
             }
            },
            "type": "scattergeo"
           }
          ],
          "scattergl": [
           {
            "marker": {
             "colorbar": {
              "outlinewidth": 0,
              "ticks": ""
             }
            },
            "type": "scattergl"
           }
          ],
          "scattermapbox": [
           {
            "marker": {
             "colorbar": {
              "outlinewidth": 0,
              "ticks": ""
             }
            },
            "type": "scattermapbox"
           }
          ],
          "scatterpolar": [
           {
            "marker": {
             "colorbar": {
              "outlinewidth": 0,
              "ticks": ""
             }
            },
            "type": "scatterpolar"
           }
          ],
          "scatterpolargl": [
           {
            "marker": {
             "colorbar": {
              "outlinewidth": 0,
              "ticks": ""
             }
            },
            "type": "scatterpolargl"
           }
          ],
          "scatterternary": [
           {
            "marker": {
             "colorbar": {
              "outlinewidth": 0,
              "ticks": ""
             }
            },
            "type": "scatterternary"
           }
          ],
          "surface": [
           {
            "colorbar": {
             "outlinewidth": 0,
             "ticks": ""
            },
            "colorscale": [
             [
              0,
              "#0d0887"
             ],
             [
              0.1111111111111111,
              "#46039f"
             ],
             [
              0.2222222222222222,
              "#7201a8"
             ],
             [
              0.3333333333333333,
              "#9c179e"
             ],
             [
              0.4444444444444444,
              "#bd3786"
             ],
             [
              0.5555555555555556,
              "#d8576b"
             ],
             [
              0.6666666666666666,
              "#ed7953"
             ],
             [
              0.7777777777777778,
              "#fb9f3a"
             ],
             [
              0.8888888888888888,
              "#fdca26"
             ],
             [
              1,
              "#f0f921"
             ]
            ],
            "type": "surface"
           }
          ],
          "table": [
           {
            "cells": {
             "fill": {
              "color": "#EBF0F8"
             },
             "line": {
              "color": "white"
             }
            },
            "header": {
             "fill": {
              "color": "#C8D4E3"
             },
             "line": {
              "color": "white"
             }
            },
            "type": "table"
           }
          ]
         },
         "layout": {
          "annotationdefaults": {
           "arrowcolor": "#2a3f5f",
           "arrowhead": 0,
           "arrowwidth": 1
          },
          "autotypenumbers": "strict",
          "coloraxis": {
           "colorbar": {
            "outlinewidth": 0,
            "ticks": ""
           }
          },
          "colorscale": {
           "diverging": [
            [
             0,
             "#8e0152"
            ],
            [
             0.1,
             "#c51b7d"
            ],
            [
             0.2,
             "#de77ae"
            ],
            [
             0.3,
             "#f1b6da"
            ],
            [
             0.4,
             "#fde0ef"
            ],
            [
             0.5,
             "#f7f7f7"
            ],
            [
             0.6,
             "#e6f5d0"
            ],
            [
             0.7,
             "#b8e186"
            ],
            [
             0.8,
             "#7fbc41"
            ],
            [
             0.9,
             "#4d9221"
            ],
            [
             1,
             "#276419"
            ]
           ],
           "sequential": [
            [
             0,
             "#0d0887"
            ],
            [
             0.1111111111111111,
             "#46039f"
            ],
            [
             0.2222222222222222,
             "#7201a8"
            ],
            [
             0.3333333333333333,
             "#9c179e"
            ],
            [
             0.4444444444444444,
             "#bd3786"
            ],
            [
             0.5555555555555556,
             "#d8576b"
            ],
            [
             0.6666666666666666,
             "#ed7953"
            ],
            [
             0.7777777777777778,
             "#fb9f3a"
            ],
            [
             0.8888888888888888,
             "#fdca26"
            ],
            [
             1,
             "#f0f921"
            ]
           ],
           "sequentialminus": [
            [
             0,
             "#0d0887"
            ],
            [
             0.1111111111111111,
             "#46039f"
            ],
            [
             0.2222222222222222,
             "#7201a8"
            ],
            [
             0.3333333333333333,
             "#9c179e"
            ],
            [
             0.4444444444444444,
             "#bd3786"
            ],
            [
             0.5555555555555556,
             "#d8576b"
            ],
            [
             0.6666666666666666,
             "#ed7953"
            ],
            [
             0.7777777777777778,
             "#fb9f3a"
            ],
            [
             0.8888888888888888,
             "#fdca26"
            ],
            [
             1,
             "#f0f921"
            ]
           ]
          },
          "colorway": [
           "#636efa",
           "#EF553B",
           "#00cc96",
           "#ab63fa",
           "#FFA15A",
           "#19d3f3",
           "#FF6692",
           "#B6E880",
           "#FF97FF",
           "#FECB52"
          ],
          "font": {
           "color": "#2a3f5f"
          },
          "geo": {
           "bgcolor": "white",
           "lakecolor": "white",
           "landcolor": "#E5ECF6",
           "showlakes": true,
           "showland": true,
           "subunitcolor": "white"
          },
          "hoverlabel": {
           "align": "left"
          },
          "hovermode": "closest",
          "mapbox": {
           "style": "light"
          },
          "paper_bgcolor": "white",
          "plot_bgcolor": "#E5ECF6",
          "polar": {
           "angularaxis": {
            "gridcolor": "white",
            "linecolor": "white",
            "ticks": ""
           },
           "bgcolor": "#E5ECF6",
           "radialaxis": {
            "gridcolor": "white",
            "linecolor": "white",
            "ticks": ""
           }
          },
          "scene": {
           "xaxis": {
            "backgroundcolor": "#E5ECF6",
            "gridcolor": "white",
            "gridwidth": 2,
            "linecolor": "white",
            "showbackground": true,
            "ticks": "",
            "zerolinecolor": "white"
           },
           "yaxis": {
            "backgroundcolor": "#E5ECF6",
            "gridcolor": "white",
            "gridwidth": 2,
            "linecolor": "white",
            "showbackground": true,
            "ticks": "",
            "zerolinecolor": "white"
           },
           "zaxis": {
            "backgroundcolor": "#E5ECF6",
            "gridcolor": "white",
            "gridwidth": 2,
            "linecolor": "white",
            "showbackground": true,
            "ticks": "",
            "zerolinecolor": "white"
           }
          },
          "shapedefaults": {
           "line": {
            "color": "#2a3f5f"
           }
          },
          "ternary": {
           "aaxis": {
            "gridcolor": "white",
            "linecolor": "white",
            "ticks": ""
           },
           "baxis": {
            "gridcolor": "white",
            "linecolor": "white",
            "ticks": ""
           },
           "bgcolor": "#E5ECF6",
           "caxis": {
            "gridcolor": "white",
            "linecolor": "white",
            "ticks": ""
           }
          },
          "title": {
           "x": 0.05
          },
          "xaxis": {
           "automargin": true,
           "gridcolor": "white",
           "linecolor": "white",
           "ticks": "",
           "title": {
            "standoff": 15
           },
           "zerolinecolor": "white",
           "zerolinewidth": 2
          },
          "yaxis": {
           "automargin": true,
           "gridcolor": "white",
           "linecolor": "white",
           "ticks": "",
           "title": {
            "standoff": 15
           },
           "zerolinecolor": "white",
           "zerolinewidth": 2
          }
         }
        },
        "title": {
         "text": "Graph of All PCA Components"
        },
        "width": 900,
        "xaxis": {
         "anchor": "y",
         "domain": [
          0,
          1
         ],
         "showspikes": true,
         "title": {
          "text": "Number of Components"
         }
        },
        "yaxis": {
         "anchor": "x",
         "domain": [
          0,
          1
         ],
         "showspikes": true,
         "title": {
          "text": "PC Cumulative"
         }
        }
       }
      }
     },
     "metadata": {},
     "output_type": "display_data"
    }
   ],
   "source": [
    "fig = px.line(pca_df, x= \"Number of Components\" , y= 'PC Cumulative', title=\"Graph of All PCA Components\")\n",
    "fig.update_traces(mode=\"markers+lines\", line_color ='blue', hovertemplate=None)\n",
    "fig.update_layout(hovermode=\"x\",autosize=False, width=900, height=600)\n",
    "fig.update_xaxes(showspikes=True)\n",
    "fig.update_yaxes(showspikes=True)\n",
    "\n",
    "fig.show(render='svg')"
   ]
  },
  {
   "cell_type": "markdown",
   "id": "f983d4ab",
   "metadata": {},
   "source": [
    "### For 99 percentage variance, we can choose 331 components."
   ]
  },
  {
   "cell_type": "code",
   "execution_count": 18,
   "id": "16904855-ee0e-4288-9787-188a88796a41",
   "metadata": {},
   "outputs": [
    {
     "data": {
      "text/html": [
       "<div>\n",
       "<style scoped>\n",
       "    .dataframe tbody tr th:only-of-type {\n",
       "        vertical-align: middle;\n",
       "    }\n",
       "\n",
       "    .dataframe tbody tr th {\n",
       "        vertical-align: top;\n",
       "    }\n",
       "\n",
       "    .dataframe thead th {\n",
       "        text-align: right;\n",
       "    }\n",
       "</style>\n",
       "<table border=\"1\" class=\"dataframe\">\n",
       "  <thead>\n",
       "    <tr style=\"text-align: right;\">\n",
       "      <th></th>\n",
       "      <th>Number of Components</th>\n",
       "      <th>Principal Components</th>\n",
       "      <th>PC Cumulative</th>\n",
       "    </tr>\n",
       "  </thead>\n",
       "  <tbody>\n",
       "    <tr>\n",
       "      <th>328</th>\n",
       "      <td>329</td>\n",
       "      <td>0.0111</td>\n",
       "      <td>98.9825</td>\n",
       "    </tr>\n",
       "    <tr>\n",
       "      <th>329</th>\n",
       "      <td>330</td>\n",
       "      <td>0.0110</td>\n",
       "      <td>98.9935</td>\n",
       "    </tr>\n",
       "    <tr>\n",
       "      <th>330</th>\n",
       "      <td>331</td>\n",
       "      <td>0.0110</td>\n",
       "      <td>99.0045</td>\n",
       "    </tr>\n",
       "    <tr>\n",
       "      <th>331</th>\n",
       "      <td>332</td>\n",
       "      <td>0.0109</td>\n",
       "      <td>99.0154</td>\n",
       "    </tr>\n",
       "    <tr>\n",
       "      <th>332</th>\n",
       "      <td>333</td>\n",
       "      <td>0.0108</td>\n",
       "      <td>99.0262</td>\n",
       "    </tr>\n",
       "    <tr>\n",
       "      <th>333</th>\n",
       "      <td>334</td>\n",
       "      <td>0.0107</td>\n",
       "      <td>99.0369</td>\n",
       "    </tr>\n",
       "    <tr>\n",
       "      <th>334</th>\n",
       "      <td>335</td>\n",
       "      <td>0.0106</td>\n",
       "      <td>99.0475</td>\n",
       "    </tr>\n",
       "  </tbody>\n",
       "</table>\n",
       "</div>"
      ],
      "text/plain": [
       "     Number of Components  Principal Components  PC Cumulative\n",
       "328                   329                0.0111        98.9825\n",
       "329                   330                0.0110        98.9935\n",
       "330                   331                0.0110        99.0045\n",
       "331                   332                0.0109        99.0154\n",
       "332                   333                0.0108        99.0262\n",
       "333                   334                0.0107        99.0369\n",
       "334                   335                0.0106        99.0475"
      ]
     },
     "execution_count": 18,
     "metadata": {},
     "output_type": "execute_result"
    }
   ],
   "source": [
    "pca_df.iloc[328:335, :] \n",
    "# we look at the components from 329 to 335 to see the 331 components's variance ratio"
   ]
  },
  {
   "cell_type": "code",
   "execution_count": 19,
   "id": "26e865b3",
   "metadata": {},
   "outputs": [
    {
     "data": {
      "text/html": [
       "<style type=\"text/css\">\n",
       "#T_02ad4 .row2 {\n",
       "  color: black;\n",
       "  background-color: yellow;\n",
       "}\n",
       "</style>\n",
       "<table id=\"T_02ad4\">\n",
       "  <thead>\n",
       "    <tr>\n",
       "      <th class=\"blank level0\" >&nbsp;</th>\n",
       "      <th id=\"T_02ad4_level0_col0\" class=\"col_heading level0 col0\" >Number of Components</th>\n",
       "      <th id=\"T_02ad4_level0_col1\" class=\"col_heading level0 col1\" >Principal Components</th>\n",
       "      <th id=\"T_02ad4_level0_col2\" class=\"col_heading level0 col2\" >PC Cumulative</th>\n",
       "    </tr>\n",
       "  </thead>\n",
       "  <tbody>\n",
       "    <tr>\n",
       "      <th id=\"T_02ad4_level0_row0\" class=\"row_heading level0 row0\" >328</th>\n",
       "      <td id=\"T_02ad4_row0_col0\" class=\"data row0 col0\" >329</td>\n",
       "      <td id=\"T_02ad4_row0_col1\" class=\"data row0 col1\" >0.011100</td>\n",
       "      <td id=\"T_02ad4_row0_col2\" class=\"data row0 col2\" >98.982500</td>\n",
       "    </tr>\n",
       "    <tr>\n",
       "      <th id=\"T_02ad4_level0_row1\" class=\"row_heading level0 row1\" >329</th>\n",
       "      <td id=\"T_02ad4_row1_col0\" class=\"data row1 col0\" >330</td>\n",
       "      <td id=\"T_02ad4_row1_col1\" class=\"data row1 col1\" >0.011000</td>\n",
       "      <td id=\"T_02ad4_row1_col2\" class=\"data row1 col2\" >98.993500</td>\n",
       "    </tr>\n",
       "    <tr>\n",
       "      <th id=\"T_02ad4_level0_row2\" class=\"row_heading level0 row2\" >330</th>\n",
       "      <td id=\"T_02ad4_row2_col0\" class=\"data row2 col0\" >331</td>\n",
       "      <td id=\"T_02ad4_row2_col1\" class=\"data row2 col1\" >0.011000</td>\n",
       "      <td id=\"T_02ad4_row2_col2\" class=\"data row2 col2\" >99.004500</td>\n",
       "    </tr>\n",
       "    <tr>\n",
       "      <th id=\"T_02ad4_level0_row3\" class=\"row_heading level0 row3\" >331</th>\n",
       "      <td id=\"T_02ad4_row3_col0\" class=\"data row3 col0\" >332</td>\n",
       "      <td id=\"T_02ad4_row3_col1\" class=\"data row3 col1\" >0.010900</td>\n",
       "      <td id=\"T_02ad4_row3_col2\" class=\"data row3 col2\" >99.015400</td>\n",
       "    </tr>\n",
       "    <tr>\n",
       "      <th id=\"T_02ad4_level0_row4\" class=\"row_heading level0 row4\" >332</th>\n",
       "      <td id=\"T_02ad4_row4_col0\" class=\"data row4 col0\" >333</td>\n",
       "      <td id=\"T_02ad4_row4_col1\" class=\"data row4 col1\" >0.010800</td>\n",
       "      <td id=\"T_02ad4_row4_col2\" class=\"data row4 col2\" >99.026200</td>\n",
       "    </tr>\n",
       "    <tr>\n",
       "      <th id=\"T_02ad4_level0_row5\" class=\"row_heading level0 row5\" >333</th>\n",
       "      <td id=\"T_02ad4_row5_col0\" class=\"data row5 col0\" >334</td>\n",
       "      <td id=\"T_02ad4_row5_col1\" class=\"data row5 col1\" >0.010700</td>\n",
       "      <td id=\"T_02ad4_row5_col2\" class=\"data row5 col2\" >99.036900</td>\n",
       "    </tr>\n",
       "    <tr>\n",
       "      <th id=\"T_02ad4_level0_row6\" class=\"row_heading level0 row6\" >334</th>\n",
       "      <td id=\"T_02ad4_row6_col0\" class=\"data row6 col0\" >335</td>\n",
       "      <td id=\"T_02ad4_row6_col1\" class=\"data row6 col1\" >0.010600</td>\n",
       "      <td id=\"T_02ad4_row6_col2\" class=\"data row6 col2\" >99.047500</td>\n",
       "    </tr>\n",
       "  </tbody>\n",
       "</table>\n"
      ],
      "text/plain": [
       "<pandas.io.formats.style.Styler at 0xd6b2a3c7f0>"
      ]
     },
     "execution_count": 19,
     "metadata": {},
     "output_type": "execute_result"
    }
   ],
   "source": [
    "pca_df_style = pca_df.iloc[328:335, :].style.set_table_styles([\n",
    "                                    { \"selector\" :\".row2\",\n",
    "                                        \"props\": [(\"color\", \"black\"), (\"background-color\", \"yellow\")]\n",
    "                                    } ] )\n",
    "pca_df_style"
   ]
  },
  {
   "cell_type": "markdown",
   "id": "7e300ba9",
   "metadata": {},
   "source": [
    "## CONCLUSION"
   ]
  },
  {
   "cell_type": "markdown",
   "id": "be7aac00",
   "metadata": {},
   "source": [
    "#### In this study, we have MNIST dataset with 784 features. We have a chance to reduce all these dimensions to an optimum value by PCA. After PCA, we have to decide the optimum components. We made a graph and a dataframe colored yellow. If you look at the graphs and the last dataframe, 331 components represent the 99% percent of the whole data. If we decide the 99% of the variance is sufficient, we can take 331 features for our classification problem, not all the features (784 features). PCA can reduce the dimensions substantially by preserving most of the variance(for example 99%)."
   ]
  }
 ],
 "metadata": {
  "kernelspec": {
   "display_name": "Python 3 (ipykernel)",
   "language": "python",
   "name": "python3"
  },
  "language_info": {
   "codemirror_mode": {
    "name": "ipython",
    "version": 3
   },
   "file_extension": ".py",
   "mimetype": "text/x-python",
   "name": "python",
   "nbconvert_exporter": "python",
   "pygments_lexer": "ipython3",
   "version": "3.9.7"
  },
  "vscode": {
   "interpreter": {
    "hash": "a3144e2ceb211ba94453c35e278f6db621e079b0daff3123a13c6a79788594ac"
   }
  }
 },
 "nbformat": 4,
 "nbformat_minor": 5
}
